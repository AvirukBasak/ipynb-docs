{
 "cells": [
  {
   "cell_type": "code",
   "execution_count": 63,
   "id": "821c0f52",
   "metadata": {},
   "outputs": [],
   "source": [
    "import numpy as np"
   ]
  },
  {
   "cell_type": "code",
   "execution_count": 64,
   "id": "7a0be9b5",
   "metadata": {},
   "outputs": [
    {
     "name": "stdout",
     "output_type": "stream",
     "text": [
      "[[0.39536923 0.83150378]\n",
      " [0.98854686 0.68824278]\n",
      " [0.37858042 0.77229227]\n",
      " ...\n",
      " [0.52019464 0.03057228]\n",
      " [0.68997189 0.58832385]\n",
      " [0.88121626 0.55268753]]\n"
     ]
    },
    {
     "data": {
      "text/plain": [
       "(1000000, 2)"
      ]
     },
     "execution_count": 64,
     "metadata": {},
     "output_type": "execute_result"
    }
   ],
   "source": [
    "data = np.random.rand(10**6, 2)\n",
    "print(data)\n",
    "data.shape"
   ]
  },
  {
   "cell_type": "code",
   "execution_count": 65,
   "id": "aab7790b",
   "metadata": {},
   "outputs": [
    {
     "name": "stdout",
     "output_type": "stream",
     "text": [
      "[0.50001974 0.50018125]\n"
     ]
    },
    {
     "data": {
      "text/plain": [
       "(2,)"
      ]
     },
     "execution_count": 65,
     "metadata": {},
     "output_type": "execute_result"
    }
   ],
   "source": [
    "cntr = data.mean(axis=0)\n",
    "print(cntr)\n",
    "cntr.shape"
   ]
  },
  {
   "cell_type": "markdown",
   "id": "90b9a9eb",
   "metadata": {},
   "source": [
    "Note the amazing technique used here:\n",
    "\n",
    "  data - cntr -> results in a new (1e6,2)\n",
    "  array that contains the diff b/w each\n",
    "  coordinate and the centroid.\n",
    "  Since cntr is an array of shape (2,), it\n",
    "  is broadcasted.\n",
    "\n",
    "  After this, we square the x and y diff,\n",
    "  and then sum up the squares.\n",
    "\n",
    "  Finally, we take the root."
   ]
  },
  {
   "cell_type": "code",
   "execution_count": 66,
   "id": "302c3fe8",
   "metadata": {},
   "outputs": [
    {
     "name": "stdout",
     "output_type": "stream",
     "text": [
      "[0.34745698 0.52347482 0.29797973 ... 0.47004214 0.20940615 0.38479566]\n"
     ]
    },
    {
     "data": {
      "text/plain": [
       "(1000000,)"
      ]
     },
     "execution_count": 66,
     "metadata": {},
     "output_type": "execute_result"
    }
   ],
   "source": [
    "dist = np.sum((data - cntr) ** 2, axis=1) ** 0.5\n",
    "print(dist)\n",
    "dist.shape"
   ]
  },
  {
   "cell_type": "markdown",
   "id": "2b9c639a",
   "metadata": {},
   "source": [
    "We have the distances, now we need to add this to the same array. We use column_stack for this."
   ]
  },
  {
   "cell_type": "code",
   "execution_count": 68,
   "id": "bf4adaf4",
   "metadata": {},
   "outputs": [
    {
     "name": "stdout",
     "output_type": "stream",
     "text": [
      "[[0.39536923 0.83150378 0.34745698]\n",
      " [0.98854686 0.68824278 0.52347482]\n",
      " [0.37858042 0.77229227 0.29797973]\n",
      " ...\n",
      " [0.52019464 0.03057228 0.47004214]\n",
      " [0.68997189 0.58832385 0.20940615]\n",
      " [0.88121626 0.55268753 0.38479566]]\n"
     ]
    },
    {
     "data": {
      "text/plain": [
       "(1000000, 3)"
      ]
     },
     "execution_count": 68,
     "metadata": {},
     "output_type": "execute_result"
    }
   ],
   "source": [
    "data = np.column_stack((data, dist))\n",
    "print(data)\n",
    "data.shape"
   ]
  },
  {
   "cell_type": "code",
   "execution_count": 84,
   "id": "58cc3205",
   "metadata": {},
   "outputs": [
    {
     "name": "stdout",
     "output_type": "stream",
     "text": [
      "[[5.00306157e-01 4.99962886e-01 3.60158108e-04]\n",
      " [5.00239241e-01 4.99870770e-01 3.80229475e-04]\n",
      " [5.00112014e-01 4.99781287e-01 4.10465414e-04]]\n"
     ]
    }
   ],
   "source": [
    "indices = np.argsort(data, axis=0)[:3]\n",
    "# print(indices)\n",
    "# print(indices.T[2])\n",
    "print(data[indices.T[2]])"
   ]
  },
  {
   "cell_type": "code",
   "execution_count": null,
   "id": "0c088f02",
   "metadata": {},
   "outputs": [],
   "source": []
  }
 ],
 "metadata": {
  "kernelspec": {
   "display_name": "Python 3 (ipykernel)",
   "language": "python",
   "name": "python3"
  },
  "language_info": {
   "codemirror_mode": {
    "name": "ipython",
    "version": 3
   },
   "file_extension": ".py",
   "mimetype": "text/x-python",
   "name": "python",
   "nbconvert_exporter": "python",
   "pygments_lexer": "ipython3",
   "version": "3.9.7"
  }
 },
 "nbformat": 4,
 "nbformat_minor": 5
}
